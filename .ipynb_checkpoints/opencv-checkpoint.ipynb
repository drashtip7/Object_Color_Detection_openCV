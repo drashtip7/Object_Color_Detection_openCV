{
 "cells": [
  {
   "cell_type": "code",
   "execution_count": 31,
   "id": "daf31474",
   "metadata": {},
   "outputs": [],
   "source": [
    "import cv2"
   ]
  },
  {
   "cell_type": "code",
   "execution_count": 32,
   "id": "05c1b871",
   "metadata": {},
   "outputs": [],
   "source": [
    "# capture frames from a video\n",
    "cap = cv2.VideoCapture( 'Traffic.mp4')"
   ]
  },
  {
   "cell_type": "code",
   "execution_count": 33,
   "id": "cebf444b",
   "metadata": {},
   "outputs": [],
   "source": [
    "#Trained XML classifiers describes some features of some object we want to detect\n",
    "car_cascade = cv2.CascadeClassifier( 'cascade_car.xml')"
   ]
  },
  {
   "cell_type": "code",
   "execution_count": 19,
   "id": "7ce59b4c",
   "metadata": {},
   "outputs": [],
   "source": [
    "# loop runs if capturing has been initialized.\n",
    "while True:\n",
    "    # reads frames from a video\n",
    "    ret, frames = cap.read()\n",
    "    # convert to gray scale of each frames\n",
    "    gray = cv2.cvtColor(frames, cv2.COLOR_BGR2GRAY)\n",
    "    # Detects cars of different sizes in the input image\n",
    "    cars = car_cascade.detectMultiScale( gray, 1.1, 9)\n",
    "    # To draw a rectangle in each cars\n",
    "    for (x,y,w,h) in cars:\n",
    "        cv2.rectangle(frames,(x,y),(x+w,y+h),(0,0,255),2)\n",
    "        # Display frames in a window\n",
    "        cv2.imshow('Car Detection', frames)\n",
    "    # Wait for Enter key to stop\n",
    "    if cv2.waitKey(33) == 13:\n",
    "        break\n",
    "\n",
    "        \n",
    "cv2.destroyAllWindows()"
   ]
  },
  {
   "cell_type": "code",
   "execution_count": 34,
   "id": "0fee6871",
   "metadata": {},
   "outputs": [],
   "source": [
    "while True:\n",
    "    ret, frames = cap.read()\n",
    "    gray = cv2.cvtColor(frames, cv2.COLOR_BGR2GRAY)\n",
    "    cars = car_cascade.detectMultiScale(gray, 1.1 ,9)\n",
    "    \n",
    "    for x,y,w,h in cars:\n",
    "        plates = frames[y:y +h, x:x +w]\n",
    "        cv2.rectangle(frames, (x,y), (x+w ,y+h), (51,51,255),2)\n",
    "        #cv2.rectangle(frames, (x, y-40),(x+w, y), (52,52,255),-2)\n",
    "        #cv2.putText(frames ,'car' ,(x,y-10),cv2.FONT_HERSHEY_SIMPLEX,2,(128,61,25),2)\n",
    "        #cv2.imshow('cars',plates)\n",
    "        \n",
    "    frames =cv2.resize(frames, (600,400))\n",
    "    cv2.imshow('Car Detection System',frames)\n",
    "    k= cv2.waitKey(30)\n",
    "    if k == 27:\n",
    "        break\n",
    "cv2.destroyAllWindows()"
   ]
  },
  {
   "cell_type": "code",
   "execution_count": null,
   "id": "8d267d03",
   "metadata": {},
   "outputs": [],
   "source": []
  }
 ],
 "metadata": {
  "kernelspec": {
   "display_name": "Python 3",
   "language": "python",
   "name": "python3"
  },
  "language_info": {
   "codemirror_mode": {
    "name": "ipython",
    "version": 3
   },
   "file_extension": ".py",
   "mimetype": "text/x-python",
   "name": "python",
   "nbconvert_exporter": "python",
   "pygments_lexer": "ipython3",
   "version": "3.8.8"
  }
 },
 "nbformat": 4,
 "nbformat_minor": 5
}
